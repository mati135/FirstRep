{
 "cells": [
  {
   "cell_type": "markdown",
   "id": "2850b927",
   "metadata": {},
   "source": [
    "# Data Science Tools and Ecosystem"
   ]
  },
  {
   "cell_type": "markdown",
   "id": "972ba4f5",
   "metadata": {},
   "source": [
    "In this notebook, We will summerizad that Datascience is the field that involves using statistical and computational methods to extract insights and knowledge from data."
   ]
  },
  {
   "cell_type": "markdown",
   "id": "68b7415c",
   "metadata": {},
   "source": [
    "Some of the popular languages that Data Scientists use are:\n",
    "1. Python\n",
    "2. R\n",
    "3. SQL"
   ]
  },
  {
   "cell_type": "markdown",
   "id": "96fffc62",
   "metadata": {},
   "source": [
    "Some of the commonly used libraries used by Data Scientists include:\n",
    "1. Numpy\n",
    "2. Pandas\n",
    "3. Matplotlib"
   ]
  },
  {
   "cell_type": "markdown",
   "id": "e9d24a3a",
   "metadata": {},
   "source": [
    "|Data Science Tools|\n",
    "|------------------|\n",
    "|Jupyter Notebook|\n",
    "|Apache Spark|\n",
    "|Scikit Spark|\n"
   ]
  },
  {
   "cell_type": "markdown",
   "id": "744890b1",
   "metadata": {},
   "source": [
    "### Below are a few examples of evaluating arithmetic expressions in Python\n",
    "(9 + 3) / 2 \n"
   ]
  },
  {
   "cell_type": "code",
   "execution_count": 4,
   "id": "d1c52333",
   "metadata": {},
   "outputs": [],
   "source": [
    "# In this cell Firstly we multiply 3 with 4 then Add 5 in result of multiplication\n",
    "res = (3*4)+5"
   ]
  },
  {
   "cell_type": "code",
   "execution_count": 6,
   "id": "dc94a227",
   "metadata": {},
   "outputs": [
    {
     "name": "stdout",
     "output_type": "stream",
     "text": [
      "17\n"
     ]
    }
   ],
   "source": [
    "print(res)"
   ]
  },
  {
   "cell_type": "code",
   "execution_count": 9,
   "id": "09a3dfb8",
   "metadata": {},
   "outputs": [
    {
     "name": "stdout",
     "output_type": "stream",
     "text": [
      "3.3333333333333335\n"
     ]
    }
   ],
   "source": [
    "#This will convert 200 minutes to hours by diving by 60.\n",
    "hour = 200 / 60\n",
    "print(hour)"
   ]
  },
  {
   "cell_type": "markdown",
   "id": "619f4d69",
   "metadata": {},
   "source": [
    "<b>Objectives\n",
    "- Introduction\n",
    "- Popular languages for DataScience use\n",
    "- libraries for Data Science"
   ]
  },
  {
   "cell_type": "markdown",
   "id": "b636fcd9",
   "metadata": {},
   "source": [
    "## Author\n",
    "Mati Ullah"
   ]
  },
  {
   "cell_type": "code",
   "execution_count": null,
   "id": "9fde2d13",
   "metadata": {},
   "outputs": [],
   "source": []
  }
 ],
 "metadata": {
  "kernelspec": {
   "display_name": "Python 3 (ipykernel)",
   "language": "python",
   "name": "python3"
  },
  "language_info": {
   "codemirror_mode": {
    "name": "ipython",
    "version": 3
   },
   "file_extension": ".py",
   "mimetype": "text/x-python",
   "name": "python",
   "nbconvert_exporter": "python",
   "pygments_lexer": "ipython3",
   "version": "3.9.13"
  }
 },
 "nbformat": 4,
 "nbformat_minor": 5
}
