{
 "cells": [
  {
   "cell_type": "markdown",
   "id": "1cb5241c",
   "metadata": {},
   "source": [
    "TItle: Peer-graded Assignment"
   ]
  },
  {
   "cell_type": "markdown",
   "id": "972ba4f5",
   "metadata": {},
   "source": [
    "Hi! Myslef Matiullah. Am from Pakistan."
   ]
  },
  {
   "cell_type": "markdown",
   "id": "68b7415c",
   "metadata": {},
   "source": [
    "Python\n",
    "R\n",
    "and SQL"
   ]
  },
  {
   "cell_type": "markdown",
   "id": "96fffc62",
   "metadata": {},
   "source": [
    "Numpy, pandas and "
   ]
  },
  {
   "cell_type": "markdown",
   "id": "bef1201b",
   "metadata": {},
   "source": [
    "1.Programming Languages\n",
    "\n",
    "2.Integrated Development Environments (IDEs)\n",
    "\n",
    "3.Machine Learning Frameworks:"
   ]
  },
  {
   "cell_type": "code",
   "execution_count": 1,
   "id": "9496cd49",
   "metadata": {},
   "outputs": [],
   "source": [
    "def Mul(a,b):\n",
    "    return a*b"
   ]
  },
  {
   "cell_type": "code",
   "execution_count": 2,
   "id": "d940715d",
   "metadata": {},
   "outputs": [
    {
     "data": {
      "text/plain": [
       "35"
      ]
     },
     "execution_count": 2,
     "metadata": {},
     "output_type": "execute_result"
    }
   ],
   "source": [
    "mul(5,7)"
   ]
  },
  {
   "cell_type": "code",
   "execution_count": 3,
   "id": "b35648b1",
   "metadata": {},
   "outputs": [],
   "source": [
    "def Sum(a,b):\n",
    "    return a+b"
   ]
  },
  {
   "cell_type": "code",
   "execution_count": 4,
   "id": "9145f28f",
   "metadata": {},
   "outputs": [
    {
     "data": {
      "text/plain": [
       "11"
      ]
     },
     "execution_count": 4,
     "metadata": {},
     "output_type": "execute_result"
    }
   ],
   "source": [
    "Sum(4,7)"
   ]
  },
  {
   "cell_type": "code",
   "execution_count": 22,
   "id": "09a3dfb8",
   "metadata": {},
   "outputs": [],
   "source": [
    "def MintoHour():\n",
    "    mint = int(input(\"Enter Minutes:\"))\n",
    "    hour = mint / 60\n",
    "    print(f\"{mint} is equal to {hour} Hours.\")"
   ]
  },
  {
   "cell_type": "code",
   "execution_count": 23,
   "id": "438e814b",
   "metadata": {},
   "outputs": [
    {
     "name": "stdout",
     "output_type": "stream",
     "text": [
      "Enter Minutes:120\n",
      "120 is equal to 2.0 Hours.\n"
     ]
    }
   ],
   "source": [
    "MintoHour()"
   ]
  },
  {
   "cell_type": "code",
   "execution_count": 24,
   "id": "20aca18e",
   "metadata": {},
   "outputs": [
    {
     "name": "stdout",
     "output_type": "stream",
     "text": [
      "15.0\n"
     ]
    }
   ],
   "source": [
    "result = (5 + 3) * 4 / 2 - 1\n",
    "print(result)"
   ]
  },
  {
   "cell_type": "markdown",
   "id": "a7e0c096",
   "metadata": {},
   "source": [
    "An arithmetic expression is a combination of numbers, variables, and mathematical operators (such as addition, subtraction, multiplication, and division) that evaluates to a single value. Example\n",
    "\n",
    "Addition: 2 + 3"
   ]
  },
  {
   "cell_type": "markdown",
   "id": "90d5d314",
   "metadata": {},
   "source": [
    "1.Data Cleaning and preprocessing\n",
    "\n",
    "2.Exploratory data analysis\n",
    "\n",
    "3.Model selection and evaluation"
   ]
  },
  {
   "cell_type": "markdown",
   "id": "daa95a6b",
   "metadata": {},
   "source": [
    "Am Author Named 'MatiUllah'."
   ]
  },
  {
   "cell_type": "code",
   "execution_count": null,
   "id": "fa5326f0",
   "metadata": {},
   "outputs": [],
   "source": []
  }
 ],
 "metadata": {
  "kernelspec": {
   "display_name": "Python 3 (ipykernel)",
   "language": "python",
   "name": "python3"
  },
  "language_info": {
   "codemirror_mode": {
    "name": "ipython",
    "version": 3
   },
   "file_extension": ".py",
   "mimetype": "text/x-python",
   "name": "python",
   "nbconvert_exporter": "python",
   "pygments_lexer": "ipython3",
   "version": "3.9.13"
  }
 },
 "nbformat": 4,
 "nbformat_minor": 5
}
